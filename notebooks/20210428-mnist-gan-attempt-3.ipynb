{
 "cells": [
  {
   "cell_type": "markdown",
   "metadata": {},
   "source": [
    "# This notebook can be used to understand workflow of GAN to generate MNIST digit images\n",
    "\n",
    "1. Theory: https://www.youtube.com/watch?v=5WoItGTWV54\n",
    "1. Reference: https://github.com/eriklindernoren/PyTorch-GAN"
   ]
  },
  {
   "cell_type": "code",
   "execution_count": 1,
   "metadata": {},
   "outputs": [],
   "source": [
    "%load_ext autoreload\n",
    "%autoreload 2"
   ]
  },
  {
   "cell_type": "code",
   "execution_count": 2,
   "metadata": {},
   "outputs": [],
   "source": [
    "import os\n",
    "\n",
    "import torch\n",
    "from torch import nn\n",
    "from torch.nn import functional as F\n",
    "from torchvision import datasets, transforms\n",
    "from torch.utils.data import DataLoader\n",
    "from torch.optim import Adam\n",
    "from matplotlib import pyplot as plt\n",
    "import numpy as np\n",
    "from copy import deepcopy\n",
    "from torchvision.utils import save_image\n",
    "from tqdm import tqdm\n",
    "import shutil"
   ]
  },
  {
   "cell_type": "code",
   "execution_count": 3,
   "metadata": {},
   "outputs": [],
   "source": [
    "from mnist_gan import get_root_path"
   ]
  },
  {
   "cell_type": "code",
   "execution_count": 4,
   "metadata": {},
   "outputs": [],
   "source": [
    "PROJECT_PATH = get_root_path()\n",
    "DATA_PATH = os.path.join(get_root_path(), \"data\")\n",
    "RESULT_PATH = os.path.join(get_root_path(), \"images\")\n",
    "\n",
    "try: \n",
    "    \n",
    "    os.makedirs(DATA_PATH, exist_ok=True)\n",
    "except Exception as e:\n",
    "    print(e)\n",
    "\n",
    "try:\n",
    "    shutil.rmtree(RESULT_PATH)\n",
    "    os.makedirs(RESULT_PATH, exist_ok=True)\n",
    "except Exception as e:\n",
    "    print(e)\n",
    "\n",
    "BATCH_SIZE = 64\n",
    "NUM_EPOCHS = 100\n",
    "LATENT_FEATURES = 100\n",
    "\n",
    "_OUT_FEATURES = 1\n",
    "MNIST_SHAPE = (28, 28)\n",
    "_mnist_features = np.prod(MNIST_SHAPE)\n",
    "\n",
    "GEN_LR = 2e-4\n",
    "DIS_LR = 1e-4\n",
    "SAMPLE_INTERVAL = 400 # sample generated images after batches\n",
    "device = \"cuda\" if torch.cuda.is_available() else \"cpu\""
   ]
  },
  {
   "cell_type": "markdown",
   "metadata": {},
   "source": [
    "<font color=\"blue\">Note: it is important to scale image pixel values between -1. to 1."
   ]
  },
  {
   "cell_type": "code",
   "execution_count": 5,
   "metadata": {},
   "outputs": [],
   "source": [
    "# mean, std = (0.1307,), (0.3081,)\n",
    "transform = transforms.Compose([\n",
    "    transforms.ToTensor(), # convert pixel values range to [0.,1.]\n",
    "    transforms.Lambda(lambda x: x*2 - 1.), # convert pixel values range to [-1., 1.]\n",
    "#     transforms.Normalize(mean=mean, std=std),\n",
    "    transforms.Lambda(lambda x: x.flatten())\n",
    "])\n",
    "\n",
    "train_dataset = datasets.MNIST(\n",
    "    root=os.path.join(DATA_PATH, \"mnist_data\"), train=True, transform=transform, download=True)\n",
    "test_dataset = datasets.MNIST(\n",
    "    root=os.path.join(DATA_PATH, \"mnist_data\"), train=False, transform=transform, download=True)\n",
    "\n",
    "train_loader = DataLoader(dataset=train_dataset, batch_size=BATCH_SIZE, shuffle=True)\n",
    "test_loader = DataLoader(dataset=test_dataset, batch_size=BATCH_SIZE, shuffle=False)\n",
    "\n",
    "num_batches = len(train_loader)"
   ]
  },
  {
   "cell_type": "code",
   "execution_count": 6,
   "metadata": {},
   "outputs": [
    {
     "data": {
      "image/png": "[encoded data removed]",
      "text/plain": [
       "<Figure size 288x288 with 1 Axes>"
      ]
     },
     "metadata": {
      "needs_background": "light"
     },
     "output_type": "display_data"
    }
   ],
   "source": [
    "imgs, labels = next(iter(train_loader))\n",
    "i = np.random.choice(len(imgs))\n",
    "\n",
    "fig, ax = plt.subplots(figsize=(4, 4))\n",
    "ax.imshow(imgs[i].view(MNIST_SHAPE), cmap=\"gray\")\n",
    "ax.set_title(labels[i])\n",
    "plt.show()"
   ]
  },
  {
   "cell_type": "markdown",
   "metadata": {},
   "source": [
    "## Generator and Discriminator architecture"
   ]
  },
  {
   "cell_type": "code",
   "execution_count": 7,
   "metadata": {},
   "outputs": [],
   "source": [
    "class Generator(nn.Module):\n",
    "    def __init__(\n",
    "        self, \n",
    "        in_features: int,\n",
    "        out_features: int,\n",
    "        negative_slope: float=.2):\n",
    "        super().__init__()       \n",
    "        self.fc1 = nn.Linear(in_features=in_features, out_features=256)\n",
    "        self.fc2 = nn.Linear(\n",
    "            in_features=self.fc1.out_features, out_features=self.fc1.out_features*2)\n",
    "        self.fc3 = nn.Linear(\n",
    "            in_features=self.fc2.out_features, out_features=self.fc2.out_features*2)\n",
    "        self.fc4 = nn.Linear(\n",
    "            in_features=self.fc3.out_features, out_features=out_features)\n",
    "        self.negative_slope = negative_slope\n",
    "    \n",
    "    def forward(self, x): \n",
    "        x = F.leaky_relu(self.fc1(x), negative_slope=self.negative_slope)\n",
    "        x = F.leaky_relu(self.fc2(x), negative_slope=self.negative_slope)\n",
    "        x = F.leaky_relu(self.fc3(x), negative_slope=self.negative_slope)\n",
    "        return torch.tanh(self.fc4(x)) # tanh will bring values between -1. to 1.\n",
    "            \n",
    "    \n",
    "class Discriminator(nn.Module):\n",
    "    def __init__(\n",
    "        self, \n",
    "        in_features: int,\n",
    "        out_features: int, \n",
    "        negative_slope: float=.2,\n",
    "        dropout: float=.1):\n",
    "        super().__init__()\n",
    "        self.fc1 = nn.Linear(in_features=in_features, out_features=1024)\n",
    "        self.fc2 = nn.Linear(in_features=self.fc1.out_features, out_features=self.fc1.out_features//2)\n",
    "        self.fc3 = nn.Linear(in_features=self.fc2.out_features, out_features=self.fc2.out_features//2)\n",
    "        self.fc4 = nn.Linear(in_features=self.fc3.out_features, out_features=1)\n",
    "        self.negative_slope = negative_slope\n",
    "        self.dropout = dropout\n",
    "    \n",
    "    def forward(self, x):\n",
    "        x = F.dropout(\n",
    "            F.leaky_relu(self.fc1(x), negative_slope=self.negative_slope),\n",
    "            p=self.dropout)\n",
    "        x = F.dropout(\n",
    "            F.leaky_relu(self.fc2(x), negative_slope=self.negative_slope),\n",
    "            p=self.dropout)\n",
    "        x = F.dropout(\n",
    "            F.leaky_relu(self.fc3(x), negative_slope=self.negative_slope),\n",
    "            p=self.dropout)\n",
    "        return self.fc4(x)"
   ]
  },
  {
   "cell_type": "code",
   "execution_count": 8,
   "metadata": {},
   "outputs": [],
   "source": [
    "G = Generator(in_features=LATENT_FEATURES, out_features=_mnist_features).to(device)\n",
    "D = Discriminator(in_features=_mnist_features, out_features=_OUT_FEATURES).to(device)"
   ]
  },
  {
   "cell_type": "code",
   "execution_count": 9,
   "metadata": {},
   "outputs": [],
   "source": [
    "G.eval()\n",
    "assert G(torch.randn(size=(BATCH_SIZE, LATENT_FEATURES), device=device)).shape == imgs.flatten(start_dim=1).shape"
   ]
  },
  {
   "cell_type": "code",
   "execution_count": 10,
   "metadata": {},
   "outputs": [],
   "source": [
    "G.eval()\n",
    "D.eval()\n",
    "assert D(G(torch.randn(size=(BATCH_SIZE, LATENT_FEATURES), device=device))).shape == (BATCH_SIZE, _OUT_FEATURES)"
   ]
  },
  {
   "cell_type": "code",
   "execution_count": 11,
   "metadata": {},
   "outputs": [],
   "source": [
    "G_optim = Adam(G.parameters(), lr=GEN_LR)\n",
    "D_optim = Adam(D.parameters(), lr=DIS_LR)"
   ]
  },
  {
   "cell_type": "code",
   "execution_count": 12,
   "metadata": {},
   "outputs": [],
   "source": [
    "def D_loss(\n",
    "    y_hat_real: torch.Tensor,\n",
    "    y_hat_fake: torch.Tensor,\n",
    "    epsilon: float=1e-9) -> float:\n",
    "    \"\"\"\n",
    "    Return loss for Discrimantor.\n",
    "    \n",
    "    Parameters\n",
    "    ----------\n",
    "    y_hat_real: torch.Tensor of shape (n, 1)\n",
    "        float values in unconstrained space\n",
    "    \n",
    "    y_hat_fake: torch.Tensor of shape (n, 1)\n",
    "        float values in unconstrained space\n",
    "        \n",
    "    epsilon: float, default=1e-9\n",
    "        Adjustment to prevent nan and inf issues.\n",
    "\n",
    "    Return\n",
    "    ------\n",
    "    loss: float\n",
    "    \"\"\"\n",
    "    y_hat_real = torch.sigmoid(y_hat_real)\n",
    "    y_hat_fake = torch.sigmoid(y_hat_fake)\n",
    "    \n",
    "    return - torch.mean(\n",
    "        torch.log(y_hat_real + epsilon) \n",
    "        + torch.log(1 - y_hat_fake + epsilon)\n",
    "    )"
   ]
  },
  {
   "cell_type": "code",
   "execution_count": 13,
   "metadata": {},
   "outputs": [],
   "source": [
    "def G_loss(\n",
    "    y_hat_fake: torch.Tensor, \n",
    "    epsilon: float=1e-9) -> float:\n",
    "    \"\"\"\n",
    "    Return loss for Generator.\n",
    "    \n",
    "    Parameters\n",
    "    ----------\n",
    "    y_hat_fake: torch.Tensor of shape (n, 1)\n",
    "        float values in unconstrained space\n",
    "        \n",
    "    epsilon: float, default=1e-9\n",
    "        Adjustment to prevent nan and inf issues.\n",
    "\n",
    "    Return\n",
    "    ------\n",
    "    loss: float\n",
    "    \"\"\"\n",
    "    y_hat_fake = torch.sigmoid(y_hat_fake)\n",
    "    return - torch.mean(torch.log(y_hat_fake + epsilon))"
   ]
  },
  {
   "cell_type": "markdown",
   "metadata": {},
   "source": [
    "Comparing manual designed loss with built-in torch binary cross entropy loss "
   ]
  },
  {
   "cell_type": "code",
   "execution_count": 14,
   "metadata": {},
   "outputs": [],
   "source": [
    "X_real, _ = next(iter(train_loader))\n",
    "X_real = X_real.flatten(start_dim=1).to(device)\n",
    "\n",
    "with torch.set_grad_enabled(False):\n",
    "    D.eval()\n",
    "    G.eval()\n",
    "    \n",
    "#     ====================== Discriminator ==========================\n",
    "    Y_hat_real = D(X_real)\n",
    "    real_bce_loss = nn.BCEWithLogitsLoss()(\n",
    "        Y_hat_real, torch.ones((len(X_real), 1), device=device))\n",
    "        \n",
    "    Z = torch.randn(size=(len(X_real), LATENT_FEATURES), device=device)\n",
    "    X_fake = G(Z)\n",
    "    Y_hat_fake = D(X_fake.detach())\n",
    "    fake_bce_loss = nn.BCEWithLogitsLoss()(\n",
    "        Y_hat_fake, torch.zeros((len(X_real), 1), device=device))\n",
    "\n",
    "    assert torch.allclose(real_bce_loss + fake_bce_loss, D_loss(y_hat_real=Y_hat_real, y_hat_fake=Y_hat_fake))    \n",
    "#     ===================== Generator ==========================\n",
    "    X_fake = G(Z)\n",
    "    Y_hat_fake = D(X_fake)\n",
    "    g_bce_loss = nn.BCEWithLogitsLoss()(\n",
    "        Y_hat_fake, torch.ones((len(X_real), 1), device=device))\n",
    "    assert torch.allclose(g_bce_loss, G_loss(y_hat_fake=Y_hat_fake))"
   ]
  },
  {
   "cell_type": "code",
   "execution_count": 15,
   "metadata": {},
   "outputs": [],
   "source": [
    "losses = {\"D\":[], \"G\":[]}"
   ]
  },
  {
   "cell_type": "code",
   "execution_count": 16,
   "metadata": {},
   "outputs": [
    {
     "name": "stderr",
     "output_type": "stream",
     "text": [
      "                                                                                    \r"
     ]
    }
   ],
   "source": [
    "with torch.set_grad_enabled(True):\n",
    "    D.train()\n",
    "    G.train()    \n",
    "    t = tqdm(range(NUM_EPOCHS), leave=False)\n",
    "    for epoch in t:\n",
    "        for batch_no, (X_real, _) in enumerate(train_loader):\n",
    "            \n",
    "            \n",
    "            # ================= Train Discriminator =======================\n",
    "            Y_real =  torch.ones((len(X_real), 1), device=device)\n",
    "            Y_hat_real = D(X_real.to(device))\n",
    "            \n",
    "            Y_fake =  torch.zeros((len(X_real), 1), device=device)\n",
    "            Z = torch.randn(size=(len(X_real), LATENT_FEATURES), device=device)\n",
    "            X_fake = G(Z)\n",
    "            Y_hat_fake = D(X_fake.detach())\n",
    "\n",
    "            D_optim.zero_grad()\n",
    "            d_loss = D_loss(y_hat_real=Y_hat_real, y_hat_fake=Y_hat_fake)\n",
    "            d_loss.backward()\n",
    "            D_optim.step()\n",
    "            losses[\"D\"].append(d_loss.item())\n",
    "\n",
    "            # ==================== Train Generator =========================\n",
    "            X_fake = G(Z)\n",
    "            Y_hat_fake = D(X_fake)\n",
    "\n",
    "            G_optim.zero_grad()\n",
    "            g_loss = G_loss(Y_hat_fake)\n",
    "            g_loss.backward()\n",
    "            G_optim.step()\n",
    "            losses[\"G\"].append(g_loss.item())\n",
    "\n",
    "            t.set_description(f\"E: {epoch}, B: {batch_no}, D: {losses['D'][-1]:.3f}, G: {losses['G'][-1]:.3f}\")\n",
    "            \n",
    "            num_batches_processed = epoch * num_batches + batch_no\n",
    "            if num_batches_processed % SAMPLE_INTERVAL == 0:\n",
    "                save_image(X_fake.data[:25].view(25, 1, *(MNIST_SHAPE)), f\"{RESULT_PATH}/{num_batches_processed}.png\", nrow=5, normalize=True)"
   ]
  },
  {
   "cell_type": "markdown",
   "metadata": {},
   "source": [
    "## Key Lessons:\n",
    "\n",
    "1. Leaky ReLU better than ReLU activation\n",
    "1. Tanh for Generator\n",
    "1. If discriminator learns better than generator then generator would not be able to produce realistic fake image."
   ]
  }
 ],
 "metadata": {
  "kernelspec": {
   "display_name": "mnist-gan",
   "language": "python",
   "name": "mnist-gan"
  },
  "language_info": {
   "codemirror_mode": {
    "name": "ipython",
    "version": 3
   },
   "file_extension": ".py",
   "mimetype": "text/x-python",
   "name": "python",
   "nbconvert_exporter": "python",
   "pygments_lexer": "ipython3",
   "version": "3.9.2"
  }
 },
 "nbformat": 4,
 "nbformat_minor": 4
}
