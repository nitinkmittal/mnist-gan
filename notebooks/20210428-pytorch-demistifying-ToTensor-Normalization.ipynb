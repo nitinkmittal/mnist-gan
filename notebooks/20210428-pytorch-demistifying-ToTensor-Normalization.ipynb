{
 "cells": [
  {
   "cell_type": "markdown",
   "metadata": {},
   "source": [
    "# This notebook can be used to understand torchvision.transforms\n",
    "\n",
    "1. ToTensor() - It converts the PIL image with a pixel range of [0, 255] to a PyTorch FloatTensor of shape (C, H, W) with a range [0.0, 1.0]. \n",
    "1. Normalize() - Normalizing the images means transforming the images into such values that the mean and standard deviation of the image become 0.0 and 1.0 respectively."
   ]
  },
  {
   "cell_type": "code",
   "execution_count": 1,
   "metadata": {},
   "outputs": [],
   "source": [
    "%load_ext autoreload\n",
    "%autoreload 2"
   ]
  },
  {
   "cell_type": "code",
   "execution_count": 2,
   "metadata": {},
   "outputs": [],
   "source": [
    "import os\n",
    "\n",
    "import torch\n",
    "from torch import nn\n",
    "from torch.nn import functional as F\n",
    "from torchvision import datasets, transforms\n",
    "from torch.utils.data import DataLoader\n",
    "from torch.optim import Adam\n",
    "from matplotlib import pyplot as plt\n",
    "import numpy as np\n",
    "from copy import deepcopy\n",
    "from tqdm import tqdm"
   ]
  },
  {
   "cell_type": "code",
   "execution_count": 3,
   "metadata": {},
   "outputs": [],
   "source": [
    "from mnist_gan import get_root_path"
   ]
  },
  {
   "cell_type": "code",
   "execution_count": 4,
   "metadata": {},
   "outputs": [
    {
     "name": "stdout",
     "output_type": "stream",
     "text": [
      "[Errno 17] File exists: '/home/mittal.nit/projects/mnist-gan/data'\n"
     ]
    }
   ],
   "source": [
    "PROJECT_PATH = get_root_path()\n",
    "DATA_PATH = os.path.join(get_root_path(), \"data\")\n",
    "try: \n",
    "    os.mkdir(DATA_PATH)\n",
    "except Exception as e:\n",
    "    print(e)\n",
    "\n",
    "BATCH_SIZE = 60000"
   ]
  },
  {
   "cell_type": "code",
   "execution_count": 5,
   "metadata": {},
   "outputs": [],
   "source": [
    "transform = transforms.Compose([\n",
    "    transforms.ToTensor(),\n",
    "#     transforms.Normalize(mean=(0.1307), std=(0.3081)),\n",
    "#     transforms.Lambda(lambda x: x.flatten())\n",
    "])\n",
    "\n",
    "train_dataset = datasets.MNIST(\n",
    "    root=os.path.join(DATA_PATH, \"mnist_data\"), train=True, transform=transform, download=True)\n",
    "test_dataset = datasets.MNIST(\n",
    "    root=os.path.join(DATA_PATH, \"mnist_data\"), train=False, transform=transform, download=True)\n",
    "\n",
    "train_loader = DataLoader(dataset=train_dataset, batch_size=BATCH_SIZE, shuffle=True)\n",
    "test_loader = DataLoader(dataset=test_dataset, batch_size=BATCH_SIZE, shuffle=False)"
   ]
  },
  {
   "cell_type": "code",
   "execution_count": 6,
   "metadata": {},
   "outputs": [
    {
     "data": {
      "image/png": "[encoded data removed]",
      "text/plain": [
       "<Figure size 432x288 with 1 Axes>"
      ]
     },
     "metadata": {
      "needs_background": "light"
     },
     "output_type": "display_data"
    }
   ],
   "source": [
    "pixels, counts = train_dataset.data.unique(return_counts=True)\n",
    "plt.bar(pixels, counts)\n",
    "plt.show()"
   ]
  },
  {
   "cell_type": "markdown",
   "metadata": {},
   "source": [
    "Here, the original data as values between 0 and 255. PIL image pixel values."
   ]
  },
  {
   "cell_type": "markdown",
   "metadata": {},
   "source": [
    "## Converting PIL images to tensor. \n",
    "\n",
    "Use of torchvision.transforms.ToTensor()"
   ]
  },
  {
   "cell_type": "code",
   "execution_count": 7,
   "metadata": {},
   "outputs": [
    {
     "data": {
      "image/png": "[encoded data removed]",
      "text/plain": [
       "<Figure size 432x288 with 1 Axes>"
      ]
     },
     "metadata": {
      "needs_background": "light"
     },
     "output_type": "display_data"
    }
   ],
   "source": [
    "imgs, _ = next(iter(train_loader))\n",
    "pixels, counts = imgs.unique(return_counts=True)\n",
    "plt.bar(pixels, counts, width=.01)\n",
    "plt.show()"
   ]
  },
  {
   "cell_type": "markdown",
   "metadata": {},
   "source": [
    "After, converting PIL images to tensors, pixel values changes from [0, 255] to [0., 1.]. Pixels values are not normalized yet. Normalizing the images means transforming the images into such values that the mean and standard deviation of the image become 0.0 and 1.0 respectively."
   ]
  },
  {
   "cell_type": "markdown",
   "metadata": {},
   "source": [
    "## Normalization of pixel values"
   ]
  },
  {
   "cell_type": "code",
   "execution_count": 8,
   "metadata": {},
   "outputs": [
    {
     "data": {
      "text/plain": [
       "((tensor(0.1307),), (tensor(0.3081),))"
      ]
     },
     "execution_count": 8,
     "metadata": {},
     "output_type": "execute_result"
    }
   ],
   "source": [
    "mean = (imgs.mean(),) # single channel image\n",
    "std = (imgs.std(),) # single channel image\n",
    "\n",
    "assert torch.allclose(std[0], torch.sqrt(((imgs - imgs.mean())**2).mean()))\n",
    "mean, std"
   ]
  },
  {
   "cell_type": "code",
   "execution_count": 9,
   "metadata": {},
   "outputs": [],
   "source": [
    "transform = transforms.Compose([\n",
    "    transforms.ToTensor(),\n",
    "    transforms.Normalize(mean=mean, std=std),\n",
    "#     transforms.Lambda(lambda x: x.flatten())\n",
    "])\n",
    "\n",
    "train_dataset = datasets.MNIST(\n",
    "    root=os.path.join(DATA_PATH, \"mnist_data\"), train=True, transform=transform, download=True)\n",
    "test_dataset = datasets.MNIST(\n",
    "    root=os.path.join(DATA_PATH, \"mnist_data\"), train=False, transform=transform, download=True)\n",
    "\n",
    "train_loader = DataLoader(dataset=train_dataset, batch_size=BATCH_SIZE, shuffle=True)\n",
    "test_loader = DataLoader(dataset=test_dataset, batch_size=BATCH_SIZE, shuffle=False)"
   ]
  },
  {
   "cell_type": "code",
   "execution_count": 10,
   "metadata": {},
   "outputs": [
    {
     "data": {
      "image/png": "[encoded data removed]",
      "text/plain": [
       "<Figure size 432x288 with 1 Axes>"
      ]
     },
     "metadata": {
      "needs_background": "light"
     },
     "output_type": "display_data"
    }
   ],
   "source": [
    "imgs, _ = next(iter(train_loader))\n",
    "pixels, counts = imgs.unique(return_counts=True)\n",
    "plt.bar(pixels, counts, width=.01)\n",
    "plt.show()"
   ]
  },
  {
   "cell_type": "code",
   "execution_count": 11,
   "metadata": {},
   "outputs": [
    {
     "data": {
      "text/plain": [
       "(tensor(-7.0741e-09), tensor(1.0000))"
      ]
     },
     "execution_count": 11,
     "metadata": {},
     "output_type": "execute_result"
    }
   ],
   "source": [
    "imgs.mean(), imgs.std()"
   ]
  }
 ],
 "metadata": {
  "kernelspec": {
   "display_name": "mnist-gan",
   "language": "python",
   "name": "mnist-gan"
  },
  "language_info": {
   "codemirror_mode": {
    "name": "ipython",
    "version": 3
   },
   "file_extension": ".py",
   "mimetype": "text/x-python",
   "name": "python",
   "nbconvert_exporter": "python",
   "pygments_lexer": "ipython3",
   "version": "3.9.2"
  }
 },
 "nbformat": 4,
 "nbformat_minor": 4
}
